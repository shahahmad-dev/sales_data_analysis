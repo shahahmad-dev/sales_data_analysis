{
 "cells": [
  {
   "cell_type": "markdown",
   "id": "45dc6c1b",
   "metadata": {},
   "source": [
    "### **Find this one the given tasks and Visualize it:**\n",
    "\n",
    "- Find the highest paid employees.\n",
    "\n",
    "- Compare Police vs Fire Department salaries.\n",
    "\n",
    "- Analyze the impact of overtime pay.\n",
    "\n",
    "- Detect missing values (NaNs) in Benefits.\n",
    "\n",
    "- Find average salary by JobTitle or by Year."
   ]
  },
  {
   "cell_type": "code",
   "execution_count": 176,
   "id": "0cb0ebc9",
   "metadata": {},
   "outputs": [],
   "source": [
    "# import libraries\n",
    "import pandas as pd\n",
    "import numpy as np\n",
    "import matplotlib.pyplot as plt\n",
    "import seaborn as sns\n",
    "import plotly.express as px"
   ]
  },
  {
   "cell_type": "code",
   "execution_count": 177,
   "id": "13d692c8",
   "metadata": {},
   "outputs": [
    {
     "name": "stderr",
     "output_type": "stream",
     "text": [
      "/var/folders/3r/yggkbbhn2zx2q7qwlxbp6dkw0000gn/T/ipykernel_723/382579703.py:2: DtypeWarning: Columns (3,4,5,6,12) have mixed types. Specify dtype option on import or set low_memory=False.\n",
      "  df = pd.read_csv('Salaries.csv')\n"
     ]
    }
   ],
   "source": [
    "# load data\n",
    "df = pd.read_csv('Salaries.csv')"
   ]
  },
  {
   "cell_type": "code",
   "execution_count": 178,
   "id": "566d5025",
   "metadata": {},
   "outputs": [
    {
     "name": "stdout",
     "output_type": "stream",
     "text": [
      "<class 'pandas.core.frame.DataFrame'>\n",
      "RangeIndex: 148654 entries, 0 to 148653\n",
      "Data columns (total 13 columns):\n",
      " #   Column            Non-Null Count   Dtype  \n",
      "---  ------            --------------   -----  \n",
      " 0   Id                148654 non-null  int64  \n",
      " 1   EmployeeName      148654 non-null  object \n",
      " 2   JobTitle          148654 non-null  object \n",
      " 3   BasePay           148049 non-null  object \n",
      " 4   OvertimePay       148654 non-null  object \n",
      " 5   OtherPay          148654 non-null  object \n",
      " 6   Benefits          112495 non-null  object \n",
      " 7   TotalPay          148654 non-null  float64\n",
      " 8   TotalPayBenefits  148654 non-null  float64\n",
      " 9   Year              148654 non-null  int64  \n",
      " 10  Notes             0 non-null       float64\n",
      " 11  Agency            148654 non-null  object \n",
      " 12  Status            38119 non-null   object \n",
      "dtypes: float64(3), int64(2), object(8)\n",
      "memory usage: 14.7+ MB\n"
     ]
    }
   ],
   "source": [
    "df.info()"
   ]
  },
  {
   "cell_type": "code",
   "execution_count": 179,
   "id": "38f1884a",
   "metadata": {},
   "outputs": [
    {
     "data": {
      "text/html": [
       "<div>\n",
       "<style scoped>\n",
       "    .dataframe tbody tr th:only-of-type {\n",
       "        vertical-align: middle;\n",
       "    }\n",
       "\n",
       "    .dataframe tbody tr th {\n",
       "        vertical-align: top;\n",
       "    }\n",
       "\n",
       "    .dataframe thead th {\n",
       "        text-align: right;\n",
       "    }\n",
       "</style>\n",
       "<table border=\"1\" class=\"dataframe\">\n",
       "  <thead>\n",
       "    <tr style=\"text-align: right;\">\n",
       "      <th></th>\n",
       "      <th>Id</th>\n",
       "      <th>EmployeeName</th>\n",
       "      <th>JobTitle</th>\n",
       "      <th>BasePay</th>\n",
       "      <th>OvertimePay</th>\n",
       "      <th>OtherPay</th>\n",
       "      <th>Benefits</th>\n",
       "      <th>TotalPay</th>\n",
       "      <th>TotalPayBenefits</th>\n",
       "      <th>Year</th>\n",
       "      <th>Notes</th>\n",
       "      <th>Agency</th>\n",
       "      <th>Status</th>\n",
       "    </tr>\n",
       "  </thead>\n",
       "  <tbody>\n",
       "    <tr>\n",
       "      <th>count</th>\n",
       "      <td>148654.000000</td>\n",
       "      <td>148654</td>\n",
       "      <td>148654</td>\n",
       "      <td>148049.0</td>\n",
       "      <td>148654.0</td>\n",
       "      <td>148654.0</td>\n",
       "      <td>112495.0</td>\n",
       "      <td>148654.000000</td>\n",
       "      <td>148654.000000</td>\n",
       "      <td>148654.000000</td>\n",
       "      <td>0.0</td>\n",
       "      <td>148654</td>\n",
       "      <td>38119</td>\n",
       "    </tr>\n",
       "    <tr>\n",
       "      <th>unique</th>\n",
       "      <td>NaN</td>\n",
       "      <td>110811</td>\n",
       "      <td>2159</td>\n",
       "      <td>109900.0</td>\n",
       "      <td>66555.0</td>\n",
       "      <td>84968.0</td>\n",
       "      <td>99635.0</td>\n",
       "      <td>NaN</td>\n",
       "      <td>NaN</td>\n",
       "      <td>NaN</td>\n",
       "      <td>NaN</td>\n",
       "      <td>1</td>\n",
       "      <td>2</td>\n",
       "    </tr>\n",
       "    <tr>\n",
       "      <th>top</th>\n",
       "      <td>NaN</td>\n",
       "      <td>Kevin Lee</td>\n",
       "      <td>Transit Operator</td>\n",
       "      <td>0.0</td>\n",
       "      <td>0.0</td>\n",
       "      <td>0.0</td>\n",
       "      <td>0.0</td>\n",
       "      <td>NaN</td>\n",
       "      <td>NaN</td>\n",
       "      <td>NaN</td>\n",
       "      <td>NaN</td>\n",
       "      <td>San Francisco</td>\n",
       "      <td>FT</td>\n",
       "    </tr>\n",
       "    <tr>\n",
       "      <th>freq</th>\n",
       "      <td>NaN</td>\n",
       "      <td>13</td>\n",
       "      <td>7036</td>\n",
       "      <td>875.0</td>\n",
       "      <td>66103.0</td>\n",
       "      <td>35218.0</td>\n",
       "      <td>1053.0</td>\n",
       "      <td>NaN</td>\n",
       "      <td>NaN</td>\n",
       "      <td>NaN</td>\n",
       "      <td>NaN</td>\n",
       "      <td>148654</td>\n",
       "      <td>22334</td>\n",
       "    </tr>\n",
       "    <tr>\n",
       "      <th>mean</th>\n",
       "      <td>74327.500000</td>\n",
       "      <td>NaN</td>\n",
       "      <td>NaN</td>\n",
       "      <td>NaN</td>\n",
       "      <td>NaN</td>\n",
       "      <td>NaN</td>\n",
       "      <td>NaN</td>\n",
       "      <td>74768.321972</td>\n",
       "      <td>93692.554811</td>\n",
       "      <td>2012.522643</td>\n",
       "      <td>NaN</td>\n",
       "      <td>NaN</td>\n",
       "      <td>NaN</td>\n",
       "    </tr>\n",
       "    <tr>\n",
       "      <th>std</th>\n",
       "      <td>42912.857795</td>\n",
       "      <td>NaN</td>\n",
       "      <td>NaN</td>\n",
       "      <td>NaN</td>\n",
       "      <td>NaN</td>\n",
       "      <td>NaN</td>\n",
       "      <td>NaN</td>\n",
       "      <td>50517.005274</td>\n",
       "      <td>62793.533483</td>\n",
       "      <td>1.117538</td>\n",
       "      <td>NaN</td>\n",
       "      <td>NaN</td>\n",
       "      <td>NaN</td>\n",
       "    </tr>\n",
       "    <tr>\n",
       "      <th>min</th>\n",
       "      <td>1.000000</td>\n",
       "      <td>NaN</td>\n",
       "      <td>NaN</td>\n",
       "      <td>NaN</td>\n",
       "      <td>NaN</td>\n",
       "      <td>NaN</td>\n",
       "      <td>NaN</td>\n",
       "      <td>-618.130000</td>\n",
       "      <td>-618.130000</td>\n",
       "      <td>2011.000000</td>\n",
       "      <td>NaN</td>\n",
       "      <td>NaN</td>\n",
       "      <td>NaN</td>\n",
       "    </tr>\n",
       "    <tr>\n",
       "      <th>25%</th>\n",
       "      <td>37164.250000</td>\n",
       "      <td>NaN</td>\n",
       "      <td>NaN</td>\n",
       "      <td>NaN</td>\n",
       "      <td>NaN</td>\n",
       "      <td>NaN</td>\n",
       "      <td>NaN</td>\n",
       "      <td>36168.995000</td>\n",
       "      <td>44065.650000</td>\n",
       "      <td>2012.000000</td>\n",
       "      <td>NaN</td>\n",
       "      <td>NaN</td>\n",
       "      <td>NaN</td>\n",
       "    </tr>\n",
       "    <tr>\n",
       "      <th>50%</th>\n",
       "      <td>74327.500000</td>\n",
       "      <td>NaN</td>\n",
       "      <td>NaN</td>\n",
       "      <td>NaN</td>\n",
       "      <td>NaN</td>\n",
       "      <td>NaN</td>\n",
       "      <td>NaN</td>\n",
       "      <td>71426.610000</td>\n",
       "      <td>92404.090000</td>\n",
       "      <td>2013.000000</td>\n",
       "      <td>NaN</td>\n",
       "      <td>NaN</td>\n",
       "      <td>NaN</td>\n",
       "    </tr>\n",
       "    <tr>\n",
       "      <th>75%</th>\n",
       "      <td>111490.750000</td>\n",
       "      <td>NaN</td>\n",
       "      <td>NaN</td>\n",
       "      <td>NaN</td>\n",
       "      <td>NaN</td>\n",
       "      <td>NaN</td>\n",
       "      <td>NaN</td>\n",
       "      <td>105839.135000</td>\n",
       "      <td>132876.450000</td>\n",
       "      <td>2014.000000</td>\n",
       "      <td>NaN</td>\n",
       "      <td>NaN</td>\n",
       "      <td>NaN</td>\n",
       "    </tr>\n",
       "    <tr>\n",
       "      <th>max</th>\n",
       "      <td>148654.000000</td>\n",
       "      <td>NaN</td>\n",
       "      <td>NaN</td>\n",
       "      <td>NaN</td>\n",
       "      <td>NaN</td>\n",
       "      <td>NaN</td>\n",
       "      <td>NaN</td>\n",
       "      <td>567595.430000</td>\n",
       "      <td>567595.430000</td>\n",
       "      <td>2014.000000</td>\n",
       "      <td>NaN</td>\n",
       "      <td>NaN</td>\n",
       "      <td>NaN</td>\n",
       "    </tr>\n",
       "  </tbody>\n",
       "</table>\n",
       "</div>"
      ],
      "text/plain": [
       "                   Id EmployeeName          JobTitle   BasePay  OvertimePay  \\\n",
       "count   148654.000000       148654            148654  148049.0     148654.0   \n",
       "unique            NaN       110811              2159  109900.0      66555.0   \n",
       "top               NaN    Kevin Lee  Transit Operator       0.0          0.0   \n",
       "freq              NaN           13              7036     875.0      66103.0   \n",
       "mean     74327.500000          NaN               NaN       NaN          NaN   \n",
       "std      42912.857795          NaN               NaN       NaN          NaN   \n",
       "min          1.000000          NaN               NaN       NaN          NaN   \n",
       "25%      37164.250000          NaN               NaN       NaN          NaN   \n",
       "50%      74327.500000          NaN               NaN       NaN          NaN   \n",
       "75%     111490.750000          NaN               NaN       NaN          NaN   \n",
       "max     148654.000000          NaN               NaN       NaN          NaN   \n",
       "\n",
       "        OtherPay  Benefits       TotalPay  TotalPayBenefits           Year  \\\n",
       "count   148654.0  112495.0  148654.000000     148654.000000  148654.000000   \n",
       "unique   84968.0   99635.0            NaN               NaN            NaN   \n",
       "top          0.0       0.0            NaN               NaN            NaN   \n",
       "freq     35218.0    1053.0            NaN               NaN            NaN   \n",
       "mean         NaN       NaN   74768.321972      93692.554811    2012.522643   \n",
       "std          NaN       NaN   50517.005274      62793.533483       1.117538   \n",
       "min          NaN       NaN    -618.130000       -618.130000    2011.000000   \n",
       "25%          NaN       NaN   36168.995000      44065.650000    2012.000000   \n",
       "50%          NaN       NaN   71426.610000      92404.090000    2013.000000   \n",
       "75%          NaN       NaN  105839.135000     132876.450000    2014.000000   \n",
       "max          NaN       NaN  567595.430000     567595.430000    2014.000000   \n",
       "\n",
       "        Notes         Agency Status  \n",
       "count     0.0         148654  38119  \n",
       "unique    NaN              1      2  \n",
       "top       NaN  San Francisco     FT  \n",
       "freq      NaN         148654  22334  \n",
       "mean      NaN            NaN    NaN  \n",
       "std       NaN            NaN    NaN  \n",
       "min       NaN            NaN    NaN  \n",
       "25%       NaN            NaN    NaN  \n",
       "50%       NaN            NaN    NaN  \n",
       "75%       NaN            NaN    NaN  \n",
       "max       NaN            NaN    NaN  "
      ]
     },
     "execution_count": 179,
     "metadata": {},
     "output_type": "execute_result"
    }
   ],
   "source": [
    "df.describe(include='all')"
   ]
  },
  {
   "cell_type": "code",
   "execution_count": 180,
   "id": "a116dee4",
   "metadata": {},
   "outputs": [
    {
     "data": {
      "text/html": [
       "<div>\n",
       "<style scoped>\n",
       "    .dataframe tbody tr th:only-of-type {\n",
       "        vertical-align: middle;\n",
       "    }\n",
       "\n",
       "    .dataframe tbody tr th {\n",
       "        vertical-align: top;\n",
       "    }\n",
       "\n",
       "    .dataframe thead th {\n",
       "        text-align: right;\n",
       "    }\n",
       "</style>\n",
       "<table border=\"1\" class=\"dataframe\">\n",
       "  <thead>\n",
       "    <tr style=\"text-align: right;\">\n",
       "      <th></th>\n",
       "      <th>Id</th>\n",
       "      <th>EmployeeName</th>\n",
       "      <th>JobTitle</th>\n",
       "      <th>BasePay</th>\n",
       "      <th>OvertimePay</th>\n",
       "      <th>OtherPay</th>\n",
       "      <th>Benefits</th>\n",
       "      <th>TotalPay</th>\n",
       "      <th>TotalPayBenefits</th>\n",
       "      <th>Year</th>\n",
       "      <th>Notes</th>\n",
       "      <th>Agency</th>\n",
       "      <th>Status</th>\n",
       "    </tr>\n",
       "  </thead>\n",
       "  <tbody>\n",
       "    <tr>\n",
       "      <th>0</th>\n",
       "      <td>1</td>\n",
       "      <td>NATHANIEL FORD</td>\n",
       "      <td>GENERAL MANAGER-METROPOLITAN TRANSIT AUTHORITY</td>\n",
       "      <td>167411.18</td>\n",
       "      <td>0.0</td>\n",
       "      <td>400184.25</td>\n",
       "      <td>NaN</td>\n",
       "      <td>567595.43</td>\n",
       "      <td>567595.43</td>\n",
       "      <td>2011</td>\n",
       "      <td>NaN</td>\n",
       "      <td>San Francisco</td>\n",
       "      <td>NaN</td>\n",
       "    </tr>\n",
       "    <tr>\n",
       "      <th>1</th>\n",
       "      <td>2</td>\n",
       "      <td>GARY JIMENEZ</td>\n",
       "      <td>CAPTAIN III (POLICE DEPARTMENT)</td>\n",
       "      <td>155966.02</td>\n",
       "      <td>245131.88</td>\n",
       "      <td>137811.38</td>\n",
       "      <td>NaN</td>\n",
       "      <td>538909.28</td>\n",
       "      <td>538909.28</td>\n",
       "      <td>2011</td>\n",
       "      <td>NaN</td>\n",
       "      <td>San Francisco</td>\n",
       "      <td>NaN</td>\n",
       "    </tr>\n",
       "    <tr>\n",
       "      <th>2</th>\n",
       "      <td>3</td>\n",
       "      <td>ALBERT PARDINI</td>\n",
       "      <td>CAPTAIN III (POLICE DEPARTMENT)</td>\n",
       "      <td>212739.13</td>\n",
       "      <td>106088.18</td>\n",
       "      <td>16452.6</td>\n",
       "      <td>NaN</td>\n",
       "      <td>335279.91</td>\n",
       "      <td>335279.91</td>\n",
       "      <td>2011</td>\n",
       "      <td>NaN</td>\n",
       "      <td>San Francisco</td>\n",
       "      <td>NaN</td>\n",
       "    </tr>\n",
       "    <tr>\n",
       "      <th>3</th>\n",
       "      <td>4</td>\n",
       "      <td>CHRISTOPHER CHONG</td>\n",
       "      <td>WIRE ROPE CABLE MAINTENANCE MECHANIC</td>\n",
       "      <td>77916.0</td>\n",
       "      <td>56120.71</td>\n",
       "      <td>198306.9</td>\n",
       "      <td>NaN</td>\n",
       "      <td>332343.61</td>\n",
       "      <td>332343.61</td>\n",
       "      <td>2011</td>\n",
       "      <td>NaN</td>\n",
       "      <td>San Francisco</td>\n",
       "      <td>NaN</td>\n",
       "    </tr>\n",
       "    <tr>\n",
       "      <th>4</th>\n",
       "      <td>5</td>\n",
       "      <td>PATRICK GARDNER</td>\n",
       "      <td>DEPUTY CHIEF OF DEPARTMENT,(FIRE DEPARTMENT)</td>\n",
       "      <td>134401.6</td>\n",
       "      <td>9737.0</td>\n",
       "      <td>182234.59</td>\n",
       "      <td>NaN</td>\n",
       "      <td>326373.19</td>\n",
       "      <td>326373.19</td>\n",
       "      <td>2011</td>\n",
       "      <td>NaN</td>\n",
       "      <td>San Francisco</td>\n",
       "      <td>NaN</td>\n",
       "    </tr>\n",
       "  </tbody>\n",
       "</table>\n",
       "</div>"
      ],
      "text/plain": [
       "   Id       EmployeeName                                        JobTitle  \\\n",
       "0   1     NATHANIEL FORD  GENERAL MANAGER-METROPOLITAN TRANSIT AUTHORITY   \n",
       "1   2       GARY JIMENEZ                 CAPTAIN III (POLICE DEPARTMENT)   \n",
       "2   3     ALBERT PARDINI                 CAPTAIN III (POLICE DEPARTMENT)   \n",
       "3   4  CHRISTOPHER CHONG            WIRE ROPE CABLE MAINTENANCE MECHANIC   \n",
       "4   5    PATRICK GARDNER    DEPUTY CHIEF OF DEPARTMENT,(FIRE DEPARTMENT)   \n",
       "\n",
       "     BasePay OvertimePay   OtherPay Benefits   TotalPay  TotalPayBenefits  \\\n",
       "0  167411.18         0.0  400184.25      NaN  567595.43         567595.43   \n",
       "1  155966.02   245131.88  137811.38      NaN  538909.28         538909.28   \n",
       "2  212739.13   106088.18    16452.6      NaN  335279.91         335279.91   \n",
       "3    77916.0    56120.71   198306.9      NaN  332343.61         332343.61   \n",
       "4   134401.6      9737.0  182234.59      NaN  326373.19         326373.19   \n",
       "\n",
       "   Year  Notes         Agency Status  \n",
       "0  2011    NaN  San Francisco    NaN  \n",
       "1  2011    NaN  San Francisco    NaN  \n",
       "2  2011    NaN  San Francisco    NaN  \n",
       "3  2011    NaN  San Francisco    NaN  \n",
       "4  2011    NaN  San Francisco    NaN  "
      ]
     },
     "execution_count": 180,
     "metadata": {},
     "output_type": "execute_result"
    }
   ],
   "source": [
    "df.head()"
   ]
  },
  {
   "cell_type": "code",
   "execution_count": 181,
   "id": "93d81a68",
   "metadata": {},
   "outputs": [
    {
     "name": "stdout",
     "output_type": "stream",
     "text": [
      "<class 'pandas.core.frame.DataFrame'>\n",
      "RangeIndex: 148654 entries, 0 to 148653\n",
      "Data columns (total 13 columns):\n",
      " #   Column            Non-Null Count   Dtype  \n",
      "---  ------            --------------   -----  \n",
      " 0   Id                148654 non-null  int64  \n",
      " 1   EmployeeName      148654 non-null  object \n",
      " 2   JobTitle          148654 non-null  object \n",
      " 3   BasePay           148049 non-null  object \n",
      " 4   OvertimePay       148654 non-null  object \n",
      " 5   OtherPay          148654 non-null  object \n",
      " 6   Benefits          112495 non-null  object \n",
      " 7   TotalPay          148654 non-null  float64\n",
      " 8   TotalPayBenefits  148654 non-null  float64\n",
      " 9   Year              148654 non-null  int64  \n",
      " 10  Notes             0 non-null       float64\n",
      " 11  Agency            148654 non-null  object \n",
      " 12  Status            38119 non-null   object \n",
      "dtypes: float64(3), int64(2), object(8)\n",
      "memory usage: 14.7+ MB\n"
     ]
    }
   ],
   "source": [
    "df.info()"
   ]
  },
  {
   "cell_type": "code",
   "execution_count": 182,
   "id": "a2a92415",
   "metadata": {},
   "outputs": [
    {
     "data": {
      "text/html": [
       "<div>\n",
       "<style scoped>\n",
       "    .dataframe tbody tr th:only-of-type {\n",
       "        vertical-align: middle;\n",
       "    }\n",
       "\n",
       "    .dataframe tbody tr th {\n",
       "        vertical-align: top;\n",
       "    }\n",
       "\n",
       "    .dataframe thead th {\n",
       "        text-align: right;\n",
       "    }\n",
       "</style>\n",
       "<table border=\"1\" class=\"dataframe\">\n",
       "  <thead>\n",
       "    <tr style=\"text-align: right;\">\n",
       "      <th></th>\n",
       "      <th>Id</th>\n",
       "      <th>EmployeeName</th>\n",
       "      <th>JobTitle</th>\n",
       "      <th>BasePay</th>\n",
       "      <th>OvertimePay</th>\n",
       "      <th>OtherPay</th>\n",
       "      <th>Benefits</th>\n",
       "      <th>TotalPay</th>\n",
       "      <th>TotalPayBenefits</th>\n",
       "      <th>Year</th>\n",
       "      <th>Notes</th>\n",
       "      <th>Agency</th>\n",
       "      <th>Status</th>\n",
       "    </tr>\n",
       "  </thead>\n",
       "  <tbody>\n",
       "    <tr>\n",
       "      <th>count</th>\n",
       "      <td>148654.000000</td>\n",
       "      <td>148654</td>\n",
       "      <td>148654</td>\n",
       "      <td>148049.0</td>\n",
       "      <td>148654.0</td>\n",
       "      <td>148654.0</td>\n",
       "      <td>112495.0</td>\n",
       "      <td>148654.000000</td>\n",
       "      <td>148654.000000</td>\n",
       "      <td>148654.000000</td>\n",
       "      <td>0.0</td>\n",
       "      <td>148654</td>\n",
       "      <td>38119</td>\n",
       "    </tr>\n",
       "    <tr>\n",
       "      <th>unique</th>\n",
       "      <td>NaN</td>\n",
       "      <td>110811</td>\n",
       "      <td>2159</td>\n",
       "      <td>109900.0</td>\n",
       "      <td>66555.0</td>\n",
       "      <td>84968.0</td>\n",
       "      <td>99635.0</td>\n",
       "      <td>NaN</td>\n",
       "      <td>NaN</td>\n",
       "      <td>NaN</td>\n",
       "      <td>NaN</td>\n",
       "      <td>1</td>\n",
       "      <td>2</td>\n",
       "    </tr>\n",
       "    <tr>\n",
       "      <th>top</th>\n",
       "      <td>NaN</td>\n",
       "      <td>Kevin Lee</td>\n",
       "      <td>Transit Operator</td>\n",
       "      <td>0.0</td>\n",
       "      <td>0.0</td>\n",
       "      <td>0.0</td>\n",
       "      <td>0.0</td>\n",
       "      <td>NaN</td>\n",
       "      <td>NaN</td>\n",
       "      <td>NaN</td>\n",
       "      <td>NaN</td>\n",
       "      <td>San Francisco</td>\n",
       "      <td>FT</td>\n",
       "    </tr>\n",
       "    <tr>\n",
       "      <th>freq</th>\n",
       "      <td>NaN</td>\n",
       "      <td>13</td>\n",
       "      <td>7036</td>\n",
       "      <td>875.0</td>\n",
       "      <td>66103.0</td>\n",
       "      <td>35218.0</td>\n",
       "      <td>1053.0</td>\n",
       "      <td>NaN</td>\n",
       "      <td>NaN</td>\n",
       "      <td>NaN</td>\n",
       "      <td>NaN</td>\n",
       "      <td>148654</td>\n",
       "      <td>22334</td>\n",
       "    </tr>\n",
       "    <tr>\n",
       "      <th>mean</th>\n",
       "      <td>74327.500000</td>\n",
       "      <td>NaN</td>\n",
       "      <td>NaN</td>\n",
       "      <td>NaN</td>\n",
       "      <td>NaN</td>\n",
       "      <td>NaN</td>\n",
       "      <td>NaN</td>\n",
       "      <td>74768.321972</td>\n",
       "      <td>93692.554811</td>\n",
       "      <td>2012.522643</td>\n",
       "      <td>NaN</td>\n",
       "      <td>NaN</td>\n",
       "      <td>NaN</td>\n",
       "    </tr>\n",
       "    <tr>\n",
       "      <th>std</th>\n",
       "      <td>42912.857795</td>\n",
       "      <td>NaN</td>\n",
       "      <td>NaN</td>\n",
       "      <td>NaN</td>\n",
       "      <td>NaN</td>\n",
       "      <td>NaN</td>\n",
       "      <td>NaN</td>\n",
       "      <td>50517.005274</td>\n",
       "      <td>62793.533483</td>\n",
       "      <td>1.117538</td>\n",
       "      <td>NaN</td>\n",
       "      <td>NaN</td>\n",
       "      <td>NaN</td>\n",
       "    </tr>\n",
       "    <tr>\n",
       "      <th>min</th>\n",
       "      <td>1.000000</td>\n",
       "      <td>NaN</td>\n",
       "      <td>NaN</td>\n",
       "      <td>NaN</td>\n",
       "      <td>NaN</td>\n",
       "      <td>NaN</td>\n",
       "      <td>NaN</td>\n",
       "      <td>-618.130000</td>\n",
       "      <td>-618.130000</td>\n",
       "      <td>2011.000000</td>\n",
       "      <td>NaN</td>\n",
       "      <td>NaN</td>\n",
       "      <td>NaN</td>\n",
       "    </tr>\n",
       "    <tr>\n",
       "      <th>25%</th>\n",
       "      <td>37164.250000</td>\n",
       "      <td>NaN</td>\n",
       "      <td>NaN</td>\n",
       "      <td>NaN</td>\n",
       "      <td>NaN</td>\n",
       "      <td>NaN</td>\n",
       "      <td>NaN</td>\n",
       "      <td>36168.995000</td>\n",
       "      <td>44065.650000</td>\n",
       "      <td>2012.000000</td>\n",
       "      <td>NaN</td>\n",
       "      <td>NaN</td>\n",
       "      <td>NaN</td>\n",
       "    </tr>\n",
       "    <tr>\n",
       "      <th>50%</th>\n",
       "      <td>74327.500000</td>\n",
       "      <td>NaN</td>\n",
       "      <td>NaN</td>\n",
       "      <td>NaN</td>\n",
       "      <td>NaN</td>\n",
       "      <td>NaN</td>\n",
       "      <td>NaN</td>\n",
       "      <td>71426.610000</td>\n",
       "      <td>92404.090000</td>\n",
       "      <td>2013.000000</td>\n",
       "      <td>NaN</td>\n",
       "      <td>NaN</td>\n",
       "      <td>NaN</td>\n",
       "    </tr>\n",
       "    <tr>\n",
       "      <th>75%</th>\n",
       "      <td>111490.750000</td>\n",
       "      <td>NaN</td>\n",
       "      <td>NaN</td>\n",
       "      <td>NaN</td>\n",
       "      <td>NaN</td>\n",
       "      <td>NaN</td>\n",
       "      <td>NaN</td>\n",
       "      <td>105839.135000</td>\n",
       "      <td>132876.450000</td>\n",
       "      <td>2014.000000</td>\n",
       "      <td>NaN</td>\n",
       "      <td>NaN</td>\n",
       "      <td>NaN</td>\n",
       "    </tr>\n",
       "    <tr>\n",
       "      <th>max</th>\n",
       "      <td>148654.000000</td>\n",
       "      <td>NaN</td>\n",
       "      <td>NaN</td>\n",
       "      <td>NaN</td>\n",
       "      <td>NaN</td>\n",
       "      <td>NaN</td>\n",
       "      <td>NaN</td>\n",
       "      <td>567595.430000</td>\n",
       "      <td>567595.430000</td>\n",
       "      <td>2014.000000</td>\n",
       "      <td>NaN</td>\n",
       "      <td>NaN</td>\n",
       "      <td>NaN</td>\n",
       "    </tr>\n",
       "  </tbody>\n",
       "</table>\n",
       "</div>"
      ],
      "text/plain": [
       "                   Id EmployeeName          JobTitle   BasePay  OvertimePay  \\\n",
       "count   148654.000000       148654            148654  148049.0     148654.0   \n",
       "unique            NaN       110811              2159  109900.0      66555.0   \n",
       "top               NaN    Kevin Lee  Transit Operator       0.0          0.0   \n",
       "freq              NaN           13              7036     875.0      66103.0   \n",
       "mean     74327.500000          NaN               NaN       NaN          NaN   \n",
       "std      42912.857795          NaN               NaN       NaN          NaN   \n",
       "min          1.000000          NaN               NaN       NaN          NaN   \n",
       "25%      37164.250000          NaN               NaN       NaN          NaN   \n",
       "50%      74327.500000          NaN               NaN       NaN          NaN   \n",
       "75%     111490.750000          NaN               NaN       NaN          NaN   \n",
       "max     148654.000000          NaN               NaN       NaN          NaN   \n",
       "\n",
       "        OtherPay  Benefits       TotalPay  TotalPayBenefits           Year  \\\n",
       "count   148654.0  112495.0  148654.000000     148654.000000  148654.000000   \n",
       "unique   84968.0   99635.0            NaN               NaN            NaN   \n",
       "top          0.0       0.0            NaN               NaN            NaN   \n",
       "freq     35218.0    1053.0            NaN               NaN            NaN   \n",
       "mean         NaN       NaN   74768.321972      93692.554811    2012.522643   \n",
       "std          NaN       NaN   50517.005274      62793.533483       1.117538   \n",
       "min          NaN       NaN    -618.130000       -618.130000    2011.000000   \n",
       "25%          NaN       NaN   36168.995000      44065.650000    2012.000000   \n",
       "50%          NaN       NaN   71426.610000      92404.090000    2013.000000   \n",
       "75%          NaN       NaN  105839.135000     132876.450000    2014.000000   \n",
       "max          NaN       NaN  567595.430000     567595.430000    2014.000000   \n",
       "\n",
       "        Notes         Agency Status  \n",
       "count     0.0         148654  38119  \n",
       "unique    NaN              1      2  \n",
       "top       NaN  San Francisco     FT  \n",
       "freq      NaN         148654  22334  \n",
       "mean      NaN            NaN    NaN  \n",
       "std       NaN            NaN    NaN  \n",
       "min       NaN            NaN    NaN  \n",
       "25%       NaN            NaN    NaN  \n",
       "50%       NaN            NaN    NaN  \n",
       "75%       NaN            NaN    NaN  \n",
       "max       NaN            NaN    NaN  "
      ]
     },
     "execution_count": 182,
     "metadata": {},
     "output_type": "execute_result"
    }
   ],
   "source": [
    "df.describe(include = 'all')"
   ]
  },
  {
   "cell_type": "code",
   "execution_count": 183,
   "id": "2b8f7b6e",
   "metadata": {},
   "outputs": [
    {
     "data": {
      "text/plain": [
       "Id                       0\n",
       "EmployeeName             0\n",
       "JobTitle                 0\n",
       "BasePay                605\n",
       "OvertimePay              0\n",
       "OtherPay                 0\n",
       "Benefits             36159\n",
       "TotalPay                 0\n",
       "TotalPayBenefits         0\n",
       "Year                     0\n",
       "Notes               148654\n",
       "Agency                   0\n",
       "Status              110535\n",
       "dtype: int64"
      ]
     },
     "execution_count": 183,
     "metadata": {},
     "output_type": "execute_result"
    }
   ],
   "source": [
    "df.isnull().sum()"
   ]
  },
  {
   "cell_type": "code",
   "execution_count": 184,
   "id": "ca300f4b",
   "metadata": {},
   "outputs": [],
   "source": [
    "# dropping ID, Notes, Agency & Status columns \n",
    "df = df.drop(['Id', 'Notes', 'Agency', 'Status'], axis = 1)"
   ]
  },
  {
   "cell_type": "code",
   "execution_count": 185,
   "id": "88629ca0",
   "metadata": {},
   "outputs": [],
   "source": [
    "# dropping null rows of BasePay\n",
    "df.dropna(subset = ['BasePay'], inplace = True)"
   ]
  },
  {
   "cell_type": "code",
   "execution_count": 186,
   "id": "8f46019c",
   "metadata": {},
   "outputs": [],
   "source": [
    "# ensuring numeric BasePay -> converting object strings to numeric like BasePay, etc.\n",
    "obj_to_num_cols = ['BasePay', 'OvertimePay', 'OtherPay', 'Benefits']\n",
    "for col1 in obj_to_num_cols:\n",
    "    df[col1] = pd.to_numeric(df[col1], errors = 'coerce')"
   ]
  },
  {
   "cell_type": "code",
   "execution_count": 187,
   "id": "bc9d385e",
   "metadata": {},
   "outputs": [
    {
     "data": {
      "text/plain": [
       "Benefits\n",
       "0.00        1596\n",
       "4659.36      107\n",
       "25699.20      83\n",
       "37055.22      82\n",
       "27052.98      75\n",
       "            ... \n",
       "1.21           1\n",
       "53102.29       1\n",
       "1.12           1\n",
       "20.49          1\n",
       "69810.19       1\n",
       "Name: count, Length: 98363, dtype: int64"
      ]
     },
     "execution_count": 187,
     "metadata": {},
     "output_type": "execute_result"
    }
   ],
   "source": [
    "df[col1].value_counts()"
   ]
  },
  {
   "cell_type": "code",
   "execution_count": 188,
   "id": "96bfc501",
   "metadata": {},
   "outputs": [
    {
     "name": "stdout",
     "output_type": "stream",
     "text": [
      "<class 'pandas.core.frame.DataFrame'>\n",
      "Index: 148049 entries, 0 to 148653\n",
      "Data columns (total 9 columns):\n",
      " #   Column            Non-Null Count   Dtype  \n",
      "---  ------            --------------   -----  \n",
      " 0   EmployeeName      148049 non-null  object \n",
      " 1   JobTitle          148049 non-null  object \n",
      " 2   BasePay           148045 non-null  float64\n",
      " 3   OvertimePay       148045 non-null  float64\n",
      " 4   OtherPay          148045 non-null  float64\n",
      " 5   Benefits          111886 non-null  float64\n",
      " 6   TotalPay          148049 non-null  float64\n",
      " 7   TotalPayBenefits  148049 non-null  float64\n",
      " 8   Year              148049 non-null  int64  \n",
      "dtypes: float64(6), int64(1), object(2)\n",
      "memory usage: 11.3+ MB\n"
     ]
    }
   ],
   "source": [
    "df.info()"
   ]
  },
  {
   "cell_type": "code",
   "execution_count": 189,
   "id": "12da2dba",
   "metadata": {},
   "outputs": [],
   "source": [
    "# dropping BasePay, OvertimePay & OtherPay empty rows from dataframe\n",
    "df.dropna(subset = ['BasePay', 'OvertimePay', 'OtherPay'], inplace=True)"
   ]
  },
  {
   "cell_type": "code",
   "execution_count": 190,
   "id": "3a025a9b",
   "metadata": {},
   "outputs": [],
   "source": [
    "# filling 36,159 missing values of 'Benefits' with 0\n",
    "df['Benefits'] = df['Benefits'].fillna(0)"
   ]
  },
  {
   "cell_type": "code",
   "execution_count": 191,
   "id": "9a3b566a",
   "metadata": {},
   "outputs": [
    {
     "name": "stdout",
     "output_type": "stream",
     "text": [
      "(148045, 9)\n"
     ]
    },
    {
     "data": {
      "text/plain": [
       "EmployeeName        0\n",
       "JobTitle            0\n",
       "BasePay             0\n",
       "OvertimePay         0\n",
       "OtherPay            0\n",
       "Benefits            0\n",
       "TotalPay            0\n",
       "TotalPayBenefits    0\n",
       "Year                0\n",
       "dtype: int64"
      ]
     },
     "execution_count": 191,
     "metadata": {},
     "output_type": "execute_result"
    }
   ],
   "source": [
    "print(df.shape)\n",
    "df.isnull().sum()"
   ]
  },
  {
   "cell_type": "code",
   "execution_count": 192,
   "id": "40af366e",
   "metadata": {},
   "outputs": [
    {
     "data": {
      "text/plain": [
       "4            PATRICK GARDNER\n",
       "6                  ALSON LEE\n",
       "8             MICHAEL MORRIS\n",
       "9         JOANNE HAYES-WHITE\n",
       "10             ARTHUR KENNEY\n",
       "                 ...        \n",
       "145956      Kenneth C Farris\n",
       "147556         Edward A Dunn\n",
       "148021        Kari A Johnson\n",
       "148209          Sheryl K Lee\n",
       "148554       Lawrence F Gatt\n",
       "Name: EmployeeName, Length: 5858, dtype: object"
      ]
     },
     "execution_count": 192,
     "metadata": {},
     "output_type": "execute_result"
    }
   ],
   "source": [
    "# displaying all employee names from fire department\n",
    "df[df['JobTitle'].str.contains('fire', case=False)]['EmployeeName']"
   ]
  },
  {
   "cell_type": "code",
   "execution_count": 193,
   "id": "153e15b2",
   "metadata": {},
   "outputs": [
    {
     "data": {
      "text/html": [
       "<div>\n",
       "<style scoped>\n",
       "    .dataframe tbody tr th:only-of-type {\n",
       "        vertical-align: middle;\n",
       "    }\n",
       "\n",
       "    .dataframe tbody tr th {\n",
       "        vertical-align: top;\n",
       "    }\n",
       "\n",
       "    .dataframe thead th {\n",
       "        text-align: right;\n",
       "    }\n",
       "</style>\n",
       "<table border=\"1\" class=\"dataframe\">\n",
       "  <thead>\n",
       "    <tr style=\"text-align: right;\">\n",
       "      <th></th>\n",
       "      <th>EmployeeName</th>\n",
       "      <th>JobTitle</th>\n",
       "      <th>BasePay</th>\n",
       "      <th>OvertimePay</th>\n",
       "      <th>OtherPay</th>\n",
       "      <th>Benefits</th>\n",
       "      <th>TotalPay</th>\n",
       "      <th>TotalPayBenefits</th>\n",
       "      <th>Year</th>\n",
       "    </tr>\n",
       "  </thead>\n",
       "  <tbody>\n",
       "    <tr>\n",
       "      <th>72832</th>\n",
       "      <td>Irwin Sidharta</td>\n",
       "      <td>Junior Clerk</td>\n",
       "      <td>-166.01</td>\n",
       "      <td>249.02</td>\n",
       "      <td>0.0</td>\n",
       "      <td>6.56</td>\n",
       "      <td>83.01</td>\n",
       "      <td>89.57</td>\n",
       "      <td>2012</td>\n",
       "    </tr>\n",
       "    <tr>\n",
       "      <th>72865</th>\n",
       "      <td>Robert Scott</td>\n",
       "      <td>Junior Clerk</td>\n",
       "      <td>-121.63</td>\n",
       "      <td>182.70</td>\n",
       "      <td>0.0</td>\n",
       "      <td>5.44</td>\n",
       "      <td>61.07</td>\n",
       "      <td>66.51</td>\n",
       "      <td>2012</td>\n",
       "    </tr>\n",
       "    <tr>\n",
       "      <th>72872</th>\n",
       "      <td>Chung Huey Kung</td>\n",
       "      <td>Junior Clerk</td>\n",
       "      <td>-109.22</td>\n",
       "      <td>163.83</td>\n",
       "      <td>0.0</td>\n",
       "      <td>4.32</td>\n",
       "      <td>54.61</td>\n",
       "      <td>58.93</td>\n",
       "      <td>2012</td>\n",
       "    </tr>\n",
       "    <tr>\n",
       "      <th>72874</th>\n",
       "      <td>Jordan Li</td>\n",
       "      <td>Junior Clerk</td>\n",
       "      <td>-106.60</td>\n",
       "      <td>159.90</td>\n",
       "      <td>0.0</td>\n",
       "      <td>4.66</td>\n",
       "      <td>53.30</td>\n",
       "      <td>57.96</td>\n",
       "      <td>2012</td>\n",
       "    </tr>\n",
       "    <tr>\n",
       "      <th>72878</th>\n",
       "      <td>Richard Jackson</td>\n",
       "      <td>Junior Clerk</td>\n",
       "      <td>-101.88</td>\n",
       "      <td>153.08</td>\n",
       "      <td>0.0</td>\n",
       "      <td>4.55</td>\n",
       "      <td>51.20</td>\n",
       "      <td>55.75</td>\n",
       "      <td>2012</td>\n",
       "    </tr>\n",
       "    <tr>\n",
       "      <th>72884</th>\n",
       "      <td>DiMarco McGhee-Stewart</td>\n",
       "      <td>Junior Clerk</td>\n",
       "      <td>-93.14</td>\n",
       "      <td>139.97</td>\n",
       "      <td>0.0</td>\n",
       "      <td>4.17</td>\n",
       "      <td>46.83</td>\n",
       "      <td>51.00</td>\n",
       "      <td>2012</td>\n",
       "    </tr>\n",
       "    <tr>\n",
       "      <th>72888</th>\n",
       "      <td>Leopoldo Marasigan</td>\n",
       "      <td>Junior Clerk</td>\n",
       "      <td>-87.38</td>\n",
       "      <td>131.06</td>\n",
       "      <td>0.0</td>\n",
       "      <td>3.89</td>\n",
       "      <td>43.68</td>\n",
       "      <td>47.57</td>\n",
       "      <td>2012</td>\n",
       "    </tr>\n",
       "    <tr>\n",
       "      <th>72894</th>\n",
       "      <td>Douglas Avalos</td>\n",
       "      <td>Junior Clerk</td>\n",
       "      <td>-75.67</td>\n",
       "      <td>113.76</td>\n",
       "      <td>0.0</td>\n",
       "      <td>3.39</td>\n",
       "      <td>38.09</td>\n",
       "      <td>41.48</td>\n",
       "      <td>2012</td>\n",
       "    </tr>\n",
       "    <tr>\n",
       "      <th>72908</th>\n",
       "      <td>Norma Rodriguez</td>\n",
       "      <td>Junior Clerk</td>\n",
       "      <td>-59.59</td>\n",
       "      <td>89.65</td>\n",
       "      <td>0.0</td>\n",
       "      <td>2.68</td>\n",
       "      <td>30.06</td>\n",
       "      <td>32.74</td>\n",
       "      <td>2012</td>\n",
       "    </tr>\n",
       "    <tr>\n",
       "      <th>72920</th>\n",
       "      <td>Charles Williams</td>\n",
       "      <td>Junior Clerk</td>\n",
       "      <td>-30.58</td>\n",
       "      <td>45.87</td>\n",
       "      <td>0.0</td>\n",
       "      <td>1.36</td>\n",
       "      <td>15.29</td>\n",
       "      <td>16.65</td>\n",
       "      <td>2012</td>\n",
       "    </tr>\n",
       "    <tr>\n",
       "      <th>72922</th>\n",
       "      <td>John Draper</td>\n",
       "      <td>Clerk</td>\n",
       "      <td>-9.50</td>\n",
       "      <td>14.25</td>\n",
       "      <td>0.0</td>\n",
       "      <td>0.42</td>\n",
       "      <td>4.75</td>\n",
       "      <td>5.17</td>\n",
       "      <td>2012</td>\n",
       "    </tr>\n",
       "  </tbody>\n",
       "</table>\n",
       "</div>"
      ],
      "text/plain": [
       "                 EmployeeName      JobTitle  BasePay  OvertimePay  OtherPay  \\\n",
       "72832          Irwin Sidharta  Junior Clerk  -166.01       249.02       0.0   \n",
       "72865            Robert Scott  Junior Clerk  -121.63       182.70       0.0   \n",
       "72872         Chung Huey Kung  Junior Clerk  -109.22       163.83       0.0   \n",
       "72874               Jordan Li  Junior Clerk  -106.60       159.90       0.0   \n",
       "72878         Richard Jackson  Junior Clerk  -101.88       153.08       0.0   \n",
       "72884  DiMarco McGhee-Stewart  Junior Clerk   -93.14       139.97       0.0   \n",
       "72888      Leopoldo Marasigan  Junior Clerk   -87.38       131.06       0.0   \n",
       "72894          Douglas Avalos  Junior Clerk   -75.67       113.76       0.0   \n",
       "72908         Norma Rodriguez  Junior Clerk   -59.59        89.65       0.0   \n",
       "72920        Charles Williams  Junior Clerk   -30.58        45.87       0.0   \n",
       "72922             John Draper         Clerk    -9.50        14.25       0.0   \n",
       "\n",
       "       Benefits  TotalPay  TotalPayBenefits  Year  \n",
       "72832      6.56     83.01             89.57  2012  \n",
       "72865      5.44     61.07             66.51  2012  \n",
       "72872      4.32     54.61             58.93  2012  \n",
       "72874      4.66     53.30             57.96  2012  \n",
       "72878      4.55     51.20             55.75  2012  \n",
       "72884      4.17     46.83             51.00  2012  \n",
       "72888      3.89     43.68             47.57  2012  \n",
       "72894      3.39     38.09             41.48  2012  \n",
       "72908      2.68     30.06             32.74  2012  \n",
       "72920      1.36     15.29             16.65  2012  \n",
       "72922      0.42      4.75              5.17  2012  "
      ]
     },
     "execution_count": 193,
     "metadata": {},
     "output_type": "execute_result"
    }
   ],
   "source": [
    "df[df['BasePay'] < 0]           # 11 rows have negative BasePay"
   ]
  },
  {
   "cell_type": "code",
   "execution_count": 194,
   "id": "8ea8e5a5",
   "metadata": {},
   "outputs": [
    {
     "name": "stdout",
     "output_type": "stream",
     "text": [
      "Minimum BasePay: -166.01\n",
      "Maximum BasePay: 319275.01\n",
      "Average BasePay: 66325.45\n"
     ]
    }
   ],
   "source": [
    "# finding minimum, maximum & average BasePay\n",
    "min_BasePay = df['BasePay'].min()\n",
    "max_BasePay = df['BasePay'].max()\n",
    "avg_BasePay = df['BasePay'].mean().round(2)\n",
    "\n",
    "print(f\"Minimum BasePay:\", min_BasePay)\n",
    "print(f\"Maximum BasePay:\", max_BasePay)\n",
    "print(f\"Average BasePay:\", avg_BasePay)"
   ]
  },
  {
   "cell_type": "code",
   "execution_count": 195,
   "id": "25168f72",
   "metadata": {},
   "outputs": [
    {
     "name": "stdout",
     "output_type": "stream",
     "text": [
      "Count of 'Not Provided': 2\n"
     ]
    }
   ],
   "source": [
    "# replace 'Not Provided' in EmployeeName to NaN\n",
    "count_of_notprovided = (df['EmployeeName'].str.lower() == 'not provided').sum()\n",
    "print(\"Count of 'Not Provided':\", count_of_notprovided)"
   ]
  },
  {
   "cell_type": "code",
   "execution_count": 196,
   "id": "fb0d5f48",
   "metadata": {},
   "outputs": [
    {
     "name": "stdout",
     "output_type": "stream",
     "text": [
      "Missing names after replacement: 2\n"
     ]
    }
   ],
   "source": [
    "df['EmployeeName'].replace(r'(?i)not provided', np.nan, regex = True, inplace = True)\n",
    "print(\"Missing names after replacement:\", df['EmployeeName'].isna().sum())\n",
    "\n",
    "# we will not drop missing name's rows as they are categoral, not numerical so their mssing will not affect the analysis"
   ]
  },
  {
   "cell_type": "code",
   "execution_count": 197,
   "id": "e27ea65a",
   "metadata": {},
   "outputs": [
    {
     "data": {
      "text/plain": [
       "2        CAPTAIN III (POLICE DEPARTMENT)\n",
       "36519                          Captain 3\n",
       "Name: JobTitle, dtype: object"
      ]
     },
     "execution_count": 197,
     "metadata": {},
     "output_type": "execute_result"
    }
   ],
   "source": [
    "# find jobtitle of ALBERT PARDINI\n",
    "df[df['EmployeeName'].str.lower() == 'albert pardini']['JobTitle']"
   ]
  },
  {
   "cell_type": "code",
   "execution_count": 198,
   "id": "69188238",
   "metadata": {},
   "outputs": [
    {
     "name": "stdout",
     "output_type": "stream",
     "text": [
      "Albert Pardini makes:  589275.2\n"
     ]
    }
   ],
   "source": [
    "# how much ALBERT PARDINI makes? (including benefits)\n",
    "alberts_total_pay = df[df['EmployeeName'].str.lower() == 'albert pardini']['TotalPayBenefits'].sum()\n",
    "print(\"Albert Pardini makes: \", alberts_total_pay)"
   ]
  },
  {
   "cell_type": "code",
   "execution_count": 199,
   "id": "169c2b41",
   "metadata": {},
   "outputs": [
    {
     "name": "stdout",
     "output_type": "stream",
     "text": [
      "Person having highest base pay: Gregory P Suhr\n",
      "Highest base pay: 319275.01\n"
     ]
    }
   ],
   "source": [
    "# name the person having highest basepay\n",
    "highest_basepay = df['BasePay'].max()\n",
    "highest_basepay_person = df[df['BasePay'] == highest_basepay]['EmployeeName']\n",
    "print(\"Person having highest base pay:\", highest_basepay_person.values[0])\n",
    "print(\"Highest base pay:\", highest_basepay)"
   ]
  },
  {
   "cell_type": "code",
   "execution_count": 200,
   "id": "14227f05",
   "metadata": {},
   "outputs": [
    {
     "name": "stdout",
     "output_type": "stream",
     "text": [
      "Unique job titles: 2154\n",
      "Number of job titles contain CAPTAIN: 551\n"
     ]
    }
   ],
   "source": [
    "# unique job titles\n",
    "print(\"Unique job titles:\", df['JobTitle'].nunique())\n",
    "\n",
    "# total number of job titles contain Captain\n",
    "job_captain = df[df['JobTitle'].str.contains('Captain', case = False)].count()\n",
    "print('Number of job titles contain CAPTAIN:' , job_captain.iloc[0])"
   ]
  },
  {
   "cell_type": "code",
   "execution_count": 201,
   "id": "65a7f900",
   "metadata": {},
   "outputs": [
    {
     "data": {
      "text/plain": [
       "Year\n",
       "2011    63595.956517\n",
       "2012    65436.406857\n",
       "2013    69630.030216\n",
       "2014    66564.421924\n",
       "Name: BasePay, dtype: float64"
      ]
     },
     "execution_count": 201,
     "metadata": {},
     "output_type": "execute_result"
    }
   ],
   "source": [
    "# average basepay of all employees per year\n",
    "df.groupby('Year')['BasePay'].mean()"
   ]
  },
  {
   "cell_type": "code",
   "execution_count": 202,
   "id": "0fde9dfa",
   "metadata": {},
   "outputs": [
    {
     "data": {
      "text/plain": [
       "JobTitle\n",
       "ACCOUNT CLERK                                     43300.806506\n",
       "ACCOUNTANT                                        46643.172000\n",
       "ACCOUNTANT INTERN                                 28732.663958\n",
       "ACPO,JuvP, Juv Prob (SFERS)                       62290.780000\n",
       "ACUPUNCTURIST                                     66374.400000\n",
       "                                                      ...     \n",
       "X-RAY LABORATORY AIDE                             47664.773077\n",
       "X-Ray Laboratory Aide                             46086.387100\n",
       "YOUTH COMMISSION ADVISOR, BOARD OF SUPERVISORS    52609.910000\n",
       "Youth Comm Advisor                                39077.957500\n",
       "ZOO CURATOR                                       43148.000000\n",
       "Name: BasePay, Length: 2154, dtype: float64"
      ]
     },
     "execution_count": 202,
     "metadata": {},
     "output_type": "execute_result"
    }
   ],
   "source": [
    "# average base pay of all employees per job title\n",
    "df.groupby('JobTitle')['BasePay'].mean()"
   ]
  },
  {
   "cell_type": "code",
   "execution_count": 203,
   "id": "13984781",
   "metadata": {},
   "outputs": [
    {
     "name": "stdout",
     "output_type": "stream",
     "text": [
      "Average BasePay of accountant: 46643.172\n"
     ]
    }
   ],
   "source": [
    "# average base pay of all employees having job title 'ACCOUNTANT'\n",
    "avg_basepay_accountant = df[df['JobTitle'].str.upper() == 'ACCOUNTANT']['BasePay'].mean()\n",
    "print(\"Average BasePay of accountant:\", avg_basepay_accountant)"
   ]
  },
  {
   "cell_type": "code",
   "execution_count": 204,
   "id": "325a830c",
   "metadata": {},
   "outputs": [
    {
     "name": "stdout",
     "output_type": "stream",
     "text": [
      "Year\n",
      "2011    63595.956517\n",
      "2012    65436.406857\n",
      "2013    69630.030216\n",
      "2014    66564.421924\n",
      "Name: BasePay, dtype: float64\n"
     ]
    }
   ],
   "source": [
    "# groupby year, by keeping it as int\n",
    "avg_basepay_per_year = df.groupby('Year')['BasePay'].mean()\n",
    "print(avg_basepay_per_year)"
   ]
  },
  {
   "cell_type": "markdown",
   "id": "c176ad84",
   "metadata": {},
   "source": [
    "### **Visualization:**\n",
    "\n",
    "- Find the highest paid employees.\n",
    "\n",
    "- Compare Police vs Fire Department salaries.\n",
    "\n",
    "- Analyze the impact of overtime pay.\n",
    "\n",
    "- Detect missing values (NaNs) in Benefits.\n",
    "\n",
    "- Find average salary by JobTitle or by Year."
   ]
  },
  {
   "cell_type": "code",
   "execution_count": 205,
   "id": "2123d3ee",
   "metadata": {},
   "outputs": [
    {
     "data": {
      "image/png": "[encoded data removed]",
      "text/plain": [
       "<Figure size 640x480 with 1 Axes>"
      ]
     },
     "metadata": {},
     "output_type": "display_data"
    }
   ],
   "source": [
    "# top 5 occurance of employee's names\n",
    "top_occuring_names = df['EmployeeName'].value_counts().head(5)\n",
    "\n",
    "sns.set_theme(style = 'whitegrid')\n",
    "bars = plt.bar(top_occuring_names.index , top_occuring_names.values, color = 'skyblue', edgecolor = 'blue') \n",
    "\n",
    "plt.title(\"Top 5 Occuring Employee Names\", weight = 'bold', fontsize = 15)\n",
    "plt.xlabel('Employee Name', weight = 'bold')\n",
    "plt.ylabel('Frequency', weight = 'bold')\n",
    "\n",
    "for bar in bars:\n",
    "    height = bar.get_height()\n",
    "    plt.text(bar.get_x() + bar.get_width()/2, \n",
    "             height,   # position\n",
    "             str(height), \n",
    "             ha='center', \n",
    "             va='bottom', \n",
    "             fontsize=10)\n",
    "\n",
    "plt.show()"
   ]
  },
  {
   "cell_type": "code",
   "execution_count": null,
   "id": "610cdece",
   "metadata": {},
   "outputs": [
    {
     "data": {
      "image/png": "[encoded data removed]",
      "text/plain": [
       "<Figure size 800x500 with 1 Axes>"
      ]
     },
     "metadata": {},
     "output_type": "display_data"
    }
   ],
   "source": [
    "# top 5 most common jobs\n",
    "most_common_jobs_5 = df['JobTitle'].value_counts().head()\n",
    "plt.figure(figsize = (8,5))\n",
    "bars = plt.bar(most_common_jobs_5.index, most_common_jobs_5.values, color = 'brown')\n",
    "\n",
    "for bar in bars:\n",
    "    height = bar.get_height()\n",
    "    plt.text(bar.get_x() + bar.get_width()/2,\n",
    "             height,\n",
    "             str(height),\n",
    "             ha = 'center',\n",
    "             va = 'bottom',\n",
    "             fontsize = 10,\n",
    "             color = 'maroon')          # x-coordinate, y-coordinate, text to print, horizontal allignment, vertical allignment\n",
    "    \n",
    "\n",
    "plt.title('Top 5 Most Common Jobs', weight = 'bold', fontsize = 15)\n",
    "plt.xlabel('Job Titles', weight = 'bold')\n",
    "plt.ylabel('Frequency', weight = 'bold')\n",
    "plt.xticks(rotation = 45)\n",
    "plt.show()"
   ]
  },
  {
   "cell_type": "code",
   "execution_count": null,
   "id": "fe8203dc",
   "metadata": {},
   "outputs": [],
   "source": [
    "# Top 5 most frequent employee names\n",
    "top_names = df['EmployeeName'].value_counts().head(5)\n",
    "\n",
    "print(top_names)\n",
    "\n",
    "top_names.plot(kind='bar', color='skyblue', edgecolor='black')\n",
    "plt.title(\"Top 5 Most Common Employee Names\", weight = 'bold', fontsize = 15)\n",
    "plt.xlabel(\"\\nEmployee Name\")\n",
    "plt.ylabel(\"Count\")\n",
    "plt.xticks(rotation=0)\n",
    "plt.show()"
   ]
  }
 ],
 "metadata": {
  "kernelspec": {
   "display_name": "python_eda",
   "language": "python",
   "name": "python3"
  },
  "language_info": {
   "codemirror_mode": {
    "name": "ipython",
    "version": 3
   },
   "file_extension": ".py",
   "mimetype": "text/x-python",
   "name": "python",
   "nbconvert_exporter": "python",
   "pygments_lexer": "ipython3",
   "version": "3.13.5"
  }
 },
 "nbformat": 4,
 "nbformat_minor": 5
}

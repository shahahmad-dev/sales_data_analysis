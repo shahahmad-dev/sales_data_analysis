{
 "cells": [
  {
   "cell_type": "markdown",
   "id": "45dc6c1b",
   "metadata": {},
   "source": [
    "### **Find this one the given tasks and Visualize it:**\n",
    "\n",
    "- Find the highest paid employees.\n",
    "\n",
    "- Compare Police vs Fire Department salaries.\n",
    "\n",
    "- Analyze the impact of overtime pay.\n",
    "\n",
    "- Detect missing values (NaNs) in Benefits.\n",
    "\n",
    "- Find average salary by JobTitle or by Year."
   ]
  },
  {
   "cell_type": "code",
   "execution_count": 1,
   "id": "0cb0ebc9",
   "metadata": {},
   "outputs": [],
   "source": [
    "# import libraries\n",
    "import pandas as pd\n",
    "import numpy as np\n",
    "import matplotlib.pyplot as plt\n",
    "import seaborn as sns\n",
    "import plotly.express as px"
   ]
  },
  {
   "cell_type": "code",
   "execution_count": 2,
   "id": "13d692c8",
   "metadata": {},
   "outputs": [
    {
     "name": "stderr",
     "output_type": "stream",
     "text": [
      "/var/folders/3r/yggkbbhn2zx2q7qwlxbp6dkw0000gn/T/ipykernel_4042/522459473.py:2: DtypeWarning: Columns (3,4,5,6,12) have mixed types. Specify dtype option on import or set low_memory=False.\n",
      "  data = pd.read_csv('Salaries.csv')\n"
     ]
    }
   ],
   "source": [
    "# load data\n",
    "data = pd.read_csv('Salaries.csv')"
   ]
  },
  {
   "cell_type": "code",
   "execution_count": null,
   "id": "566d5025",
   "metadata": {},
   "outputs": [],
   "source": []
  }
 ],
 "metadata": {
  "kernelspec": {
   "display_name": "python_eda",
   "language": "python",
   "name": "python3"
  },
  "language_info": {
   "codemirror_mode": {
    "name": "ipython",
    "version": 3
   },
   "file_extension": ".py",
   "mimetype": "text/x-python",
   "name": "python",
   "nbconvert_exporter": "python",
   "pygments_lexer": "ipython3",
   "version": "3.13.5"
  }
 },
 "nbformat": 4,
 "nbformat_minor": 5
}
